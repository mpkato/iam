{
 "cells": [
  {
   "cell_type": "code",
   "execution_count": 4,
   "metadata": {},
   "outputs": [],
   "source": [
    "from pyNTCIREVAL import Labeler\n",
    "from pyNTCIREVAL.metrics import Precision\n",
    "\n",
    "# dict of { document ID: relevance level }\n",
    "qrels = {0: 1, 1: 0, 2: 0, 3: 0, 4: 1, 5: 0, 6: 0, 7: 1, 8: 0, 9: 0}\n",
    "ranked_list_A = [0, 1, 2, 3, 4, 5, 6, 7, 8, 9] # a list of document IDs\n",
    "ranked_list_B = [9, 8, 7, 6, 5, 4, 3, 2, 1, 0] # a list of document IDs\n",
    "\n",
    "# labeling: [doc_id] -> [(doc_id, rel_level)]\n",
    "labeler = Labeler(qrels)\n",
    "labeled_ranked_list_A = labeler.label(ranked_list_A)\n",
    "labeled_ranked_list_B = labeler.label(ranked_list_B)\n",
    "\n",
    "# let's compute Precision@5\n",
    "metric = Precision(cutoff=5)"
   ]
  },
  {
   "cell_type": "code",
   "execution_count": 5,
   "metadata": {},
   "outputs": [
    {
     "data": {
      "text/plain": [
       "0.4"
      ]
     },
     "execution_count": 5,
     "metadata": {},
     "output_type": "execute_result"
    }
   ],
   "source": [
    "# Precision@5 for A\n",
    "result = metric.compute(labeled_ranked_list_A)\n",
    "result"
   ]
  },
  {
   "cell_type": "code",
   "execution_count": 7,
   "metadata": {},
   "outputs": [
    {
     "data": {
      "text/plain": [
       "0.2"
      ]
     },
     "execution_count": 7,
     "metadata": {},
     "output_type": "execute_result"
    }
   ],
   "source": [
    "# Precision@5 for B\n",
    "result = metric.compute(labeled_ranked_list_B)\n",
    "result"
   ]
  },
  {
   "cell_type": "code",
   "execution_count": 9,
   "metadata": {},
   "outputs": [],
   "source": [
    "from pyNTCIREVAL import Labeler\n",
    "from pyNTCIREVAL.metrics import MSnDCG\n",
    "\n",
    "# dict of { document ID: relevance level }\n",
    "qrels = {0: 2, 1: 0, 2: 1, 3: 0, 4: 1, 5: 0, 6: 0, 7: 2, 8: 0, 9: 0} \n",
    "grades = [0, 1, 2] # a grade for each relevance level\n",
    "ranked_list_A = [0, 1, 2, 3, 4, 5, 6, 7, 8, 9] # a list of document IDs\n",
    "ranked_list_B = [9, 8, 7, 6, 5, 4, 3, 2, 1, 0] # a list of document IDs\n",
    "\n",
    "# labeling: [doc_id] -> [(doc_id, rel_level)]\n",
    "labeler = Labeler(qrels)\n",
    "labeled_ranked_list_A = labeler.label(ranked_list_A)\n",
    "labeled_ranked_list_B = labeler.label(ranked_list_B)\n",
    "\n",
    "# compute the number of documents for each relevance level\n",
    "rel_level_num = 3\n",
    "xrelnum = labeler.compute_per_level_doc_num(rel_level_num)\n",
    "\n",
    "# Let's compute nDCG@5\n",
    "metric = MSnDCG(xrelnum, grades, cutoff=5)"
   ]
  },
  {
   "cell_type": "code",
   "execution_count": 10,
   "metadata": {},
   "outputs": [
    {
     "data": {
      "text/plain": [
       "0.6131471927654584"
      ]
     },
     "execution_count": 10,
     "metadata": {},
     "output_type": "execute_result"
    }
   ],
   "source": [
    "# Precision@5 for A\n",
    "result = metric.compute(labeled_ranked_list_A)\n",
    "result"
   ]
  },
  {
   "cell_type": "code",
   "execution_count": 11,
   "metadata": {},
   "outputs": [
    {
     "data": {
      "text/plain": [
       "0.3065735963827292"
      ]
     },
     "execution_count": 11,
     "metadata": {},
     "output_type": "execute_result"
    }
   ],
   "source": [
    "# Precision@5 for B\n",
    "result = metric.compute(labeled_ranked_list_B)\n",
    "result"
   ]
  },
  {
   "cell_type": "code",
   "execution_count": null,
   "metadata": {},
   "outputs": [],
   "source": []
  }
 ],
 "metadata": {
  "kernelspec": {
   "display_name": "Python 3",
   "language": "python",
   "name": "python3"
  },
  "language_info": {
   "codemirror_mode": {
    "name": "ipython",
    "version": 3
   },
   "file_extension": ".py",
   "mimetype": "text/x-python",
   "name": "python",
   "nbconvert_exporter": "python",
   "pygments_lexer": "ipython3",
   "version": "3.5.1"
  }
 },
 "nbformat": 4,
 "nbformat_minor": 2
}

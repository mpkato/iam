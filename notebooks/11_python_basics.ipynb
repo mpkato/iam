{
 "cells": [
  {
   "cell_type": "markdown",
   "metadata": {},
   "source": [
    "# Pythonの基礎"
   ]
  },
  {
   "cell_type": "markdown",
   "metadata": {},
   "source": [
    "## データ型"
   ]
  },
  {
   "cell_type": "code",
   "execution_count": 4,
   "metadata": {},
   "outputs": [
    {
     "name": "stdout",
     "output_type": "stream",
     "text": [
      "4.1\n"
     ]
    }
   ],
   "source": [
    "# [変数名] = [値] と書くと，その変数名を持った変数に値を代入できる．代入された値は後で利用したりすることができる．\n",
    "\n",
    "x = 1 # 整数\n",
    "y = 2.1 # 実数\n",
    "z = 2 * x + y # 四則演算 (×→*, ÷→/)\n",
    "print(z) # print(x)でxを表示．print(x, y, ...)ともかけて，xとyにスペースが入って出力される"
   ]
  },
  {
   "cell_type": "code",
   "execution_count": 5,
   "metadata": {},
   "outputs": [
    {
     "name": "stdout",
     "output_type": "stream",
     "text": [
      "これは文字列これも文字列\n"
     ]
    }
   ],
   "source": [
    "str1 = \"これは文字列\"\n",
    "str2 = 'これも文字列'\n",
    "str3 = \"\"\"\n",
    "このように書くと\n",
    "複数行に渡る文字列\n",
    "を表現できる\n",
    "\"\"\"\n",
    "str4 = '''\n",
    "こちらでも\n",
    "良い\n",
    "'''\n",
    "str5 = str1 + str2 # 文字列の+は文字列の結合\n",
    "print(str5)"
   ]
  },
  {
   "cell_type": "code",
   "execution_count": 18,
   "metadata": {},
   "outputs": [
    {
     "name": "stdout",
     "output_type": "stream",
     "text": [
      "[1, 2, 3, 3, 4, 5]\n",
      "1\n",
      "2\n",
      "3\n",
      "[2, 3]\n",
      "[1, 2]\n",
      "[2, 3]\n",
      "い\n",
      "いう\n",
      "[1, 2, 3]\n"
     ]
    }
   ],
   "source": [
    "arr1 = [1, 2, 3] # リスト\n",
    "arr2 = [3, 4, 5]\n",
    "arr3 = arr1 + arr2 # リストの+はリストの結合\n",
    "print(arr3)\n",
    "arr4 = [\"文字列\", \"文字列\"] # 何のリストであっても良い\n",
    "arr5 = [1, \"文字列\"] # 文字と数字が入り乱れても良い\n",
    "\n",
    "# arr[i] でarrリストのi+1番目の値を返す．iがマイナスの場合，末尾から数えて-i番目の値を返す\n",
    "first = arr1[0] # 1番目の値を返す\n",
    "print(first) \n",
    "second = arr1[1] # 2番目の値を返す\n",
    "print(second) \n",
    "last = arr1[-1] # 後ろから1番目の値を返す\n",
    "print(last)\n",
    "\n",
    "# arr[i:j]でi+1番目以降，j+1番目より前の値をリストで返す．iとjは省略可能で，省略されるとそれぞれ「最初から」，「最後まで」と解釈される．\n",
    "print(arr1[1:]) # 2番目以降の値をリストで返す\n",
    "print(arr1[:2]) # 3番目より前の値をリストで返す\n",
    "print(arr3[1:3]) # 1番目以降，4番目より前の値をリストで返す\n",
    "\n",
    "# 文字列も配列のようにアクセス可能\n",
    "s = \"あいうえお\"\n",
    "print(s[1])\n",
    "print(s[1:3])\n",
    "\n",
    "# arr.append(x) で 配列arrの末尾に要素xを追加する\n",
    "arr = [1, 2]\n",
    "arr.append(3)\n",
    "print(arr)"
   ]
  },
  {
   "cell_type": "code",
   "execution_count": 23,
   "metadata": {},
   "outputs": [
    {
     "name": "stdout",
     "output_type": "stream",
     "text": [
      "1\n",
      "{'b': 10, 'a': 2}\n"
     ]
    }
   ],
   "source": [
    "dict1 = {\"a\": 1, \"b\": 3, \"c\": 4} # 辞書．{key1: val1, key2: val2, ...}と書くと辞書を作れる．\n",
    "# 辞書はキーと値からなる順序付けされていないデータ\n",
    "# 1つのキーに対応する値は1つのみ\n",
    "print(dict1[\"a\"]) # dict[key]とすれば，dict辞書のkeyに対応した値を返す\n",
    "dict2 = {} # 空の辞書も作れる\n",
    "dict2[\"a\"] = 2 # dict[key] = valueとすれば，dict辞書のkeyに値valueを対応させられる\n",
    "dict2[\"b\"] = 10\n",
    "print(dict2)\n",
    "dict3 = {1: \"b\", 3: \"d\"} # keyは数値，文字列などを用いることが可能，リストや辞書は不可．valueは何でも良い．"
   ]
  },
  {
   "cell_type": "code",
   "execution_count": 27,
   "metadata": {},
   "outputs": [
    {
     "name": "stdout",
     "output_type": "stream",
     "text": [
      "False\n",
      "True\n",
      "True\n",
      "The condition was True\n"
     ]
    }
   ],
   "source": [
    "# ブール型．True or False\n",
    "bool1 = True\n",
    "bool2 = False \n",
    "bool3 = 1 == 2 # 1 == 2はFalseとなる\n",
    "bool4 = 5 > 2 # 5 > 2はTrueとなる\n",
    "bool5 = 4 in [1, 2, 3] # x in AはAがリストの場合Aにxが含まれればTrue\n",
    "print(bool5)\n",
    "bool6 = 4 in {1: \"a\", 3: \"b\", 4: \"c\"} # Aが辞書の場合，Aのキーにxが含まれればTrue\n",
    "print(bool6)\n",
    "bool7 = \"きく\" in \"かきくけこ\" # Aが文字列の場合，xがAの部分文字列ならTrue\n",
    "print(bool7)\n",
    "\n",
    "# ブール型は特にif文で利用される（詳細は後述）\n",
    "d = {\"a\": 1, \"b\": 2}\n",
    "if \"a\" in d:\n",
    "    print(\"The condition was True\")\n",
    "else:\n",
    "    print(\"The condition was False\")"
   ]
  },
  {
   "cell_type": "markdown",
   "metadata": {},
   "source": [
    "## 制御構文"
   ]
  },
  {
   "cell_type": "code",
   "execution_count": 32,
   "metadata": {},
   "outputs": [
    {
     "name": "stdout",
     "output_type": "stream",
     "text": [
      "x > 2\n",
      "x == 3\n",
      "x >= 2\n",
      "This line was also executed\n",
      "x / 3 == 1\n",
      "This line is executed whatever the condition is\n"
     ]
    }
   ],
   "source": [
    "\"\"\"\n",
    "if condition:\n",
    "     # conditionがTrueのときにここが実行される\n",
    " else:\n",
    "     # conditionがFalseのときにここが実行される（else:以降は省略可能）\n",
    "\"\"\"\n",
    "# 長いコメントは\"\"\"や'''で書ける\n",
    "\n",
    "x = 3\n",
    "if x > 2:\n",
    "    print(\"x > 2\")\n",
    "else:\n",
    "    print(\"x <= 2\")\n",
    "\n",
    "if x == 3:\n",
    "    print(\"x == 3\")\n",
    "\n",
    "# Pythonでインデントは構文の一部!! \n",
    "# インデントが増えた箇所から元のインデント数に戻るまで，インデント数が同じ箇所は同じコードブロックと見なされる．\n",
    "# コードブロック: if文やfor文，関数定義の影響が及ぼされる範囲\n",
    "\n",
    "if x < 2: # インデント0\n",
    "    print(\"x < 2\") # インデント1\n",
    "else: # インデント0\n",
    "    print(\"x >= 2\") # インデント1\n",
    "    print(\"This line was also executed\") # インデント1 この行もx < 2でない場合にのみ実行される\n",
    "    \n",
    "if x / 3 == 1: # インデント0\n",
    "    print(\"x / 3 == 1\") # インデント1\n",
    "else: # インデント0\n",
    "    print(\"x / 3 != 1\") # インデント1\n",
    "print(\"This line is executed whatever the condition is\") # インデント0 この行は直前の行と同じコードブロックではない"
   ]
  },
  {
   "cell_type": "code",
   "execution_count": 37,
   "metadata": {},
   "outputs": [
    {
     "name": "stdout",
     "output_type": "stream",
     "text": [
      "0\n",
      "2\n",
      "4\n",
      "2\n",
      "4\n",
      "6\n",
      "8\n",
      "3\n",
      "6\n",
      "9\n",
      "0 3\n",
      "1 4\n",
      "2 5\n"
     ]
    }
   ],
   "source": [
    "\"\"\"\n",
    "for x in arr:\n",
    "     # リストarrの各要素xに対して，この箇所が実行される\n",
    "\"\"\"\n",
    "\n",
    "for x in [0, 1, 2]:\n",
    "    print(x * 2)\n",
    "\n",
    "for x in range(4): # range(x)で（厳密には違うが）xより小さい整数までの配列が得られる\n",
    "    print(x * 2 + 2)\n",
    "\n",
    "for x in range(1, 4): # range(x, y)で（厳密には違うが）xからyより小さい整数までの配列が得られる\n",
    "    print(x * 3)\n",
    "\n",
    "for i, x in enumerate([3, 4, 5]): # for i, x in enumerate(arr)とすれば，iに0, 1, ...というように何番目の繰り返しかを表す整数が代入される．\n",
    "    print(i, x)"
   ]
  },
  {
   "cell_type": "code",
   "execution_count": 41,
   "metadata": {},
   "outputs": [
    {
     "name": "stdout",
     "output_type": "stream",
     "text": [
      "0\n",
      "1\n",
      "2\n"
     ]
    }
   ],
   "source": [
    "\"\"\"\n",
    "while condition:\n",
    "     # conditionがTureである間，この箇所が実行される\n",
    "\"\"\"\n",
    "\n",
    "i = 0\n",
    "while i < 3:\n",
    "    print(i)\n",
    "    i = i + 1 # i += 1とも書ける"
   ]
  },
  {
   "cell_type": "code",
   "execution_count": 45,
   "metadata": {},
   "outputs": [
    {
     "name": "stdout",
     "output_type": "stream",
     "text": [
      "例外が発生しました\n",
      "Can't convert 'int' object to str implicitly\n"
     ]
    }
   ],
   "source": [
    "\"\"\"\n",
    "try:\n",
    "    # 例外が起こりそうな操作\n",
    "except:\n",
    "    # 例外が起こったときに実行される\n",
    "\"\"\"\n",
    "\n",
    "try:\n",
    "    z = \"文字\" + 1 # 文字列と数値は足せない\n",
    "except:\n",
    "    print(\"例外が発生しました\")\n",
    "\n",
    "try:\n",
    "    z = \"文字\" + 1 # 文字列と数値は足せない\n",
    "except Exception as e: # 変数eに例外が代入される\n",
    "    print(e)"
   ]
  },
  {
   "cell_type": "markdown",
   "metadata": {},
   "source": [
    "## 関数"
   ]
  },
  {
   "cell_type": "code",
   "execution_count": 46,
   "metadata": {},
   "outputs": [
    {
     "name": "stdout",
     "output_type": "stream",
     "text": [
      "4\n"
     ]
    }
   ],
   "source": [
    "\"\"\"\n",
    "def function_name(var1, var2, ...):\n",
    "    # 関数の中身. e.g. x = var1 + var2\n",
    "    return x\n",
    "# 引数var1, var2, ...を与えて，xを返す関数function_nameを定義できる\n",
    "\"\"\"\n",
    "\n",
    "def square(x):\n",
    "    result = x * x\n",
    "    return result\n",
    "\n",
    "y = square(2)\n",
    "print(y)"
   ]
  }
 ],
 "metadata": {
  "kernelspec": {
   "display_name": "Python 3",
   "language": "python",
   "name": "python3"
  },
  "language_info": {
   "codemirror_mode": {
    "name": "ipython",
    "version": 3
   },
   "file_extension": ".py",
   "mimetype": "text/x-python",
   "name": "python",
   "nbconvert_exporter": "python",
   "pygments_lexer": "ipython3",
   "version": "3.5.1"
  }
 },
 "nbformat": 4,
 "nbformat_minor": 2
}
